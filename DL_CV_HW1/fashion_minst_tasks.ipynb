{
 "cells": [
  {
   "cell_type": "markdown",
   "metadata": {},
   "source": [
    "# Домашнее задание 1 - Классификация\n",
    "<br>\n",
    "\n",
    "Задание выполнил(а): *Пославский Александр*\n",
    "<br>\n",
    "**Дедлайн:** 23.04.2021 23:59\n",
    "\n",
    "\n",
    "### О задании\n",
    "В этом домашнем задании вы научитесь работать с CAS при помощи библиотеки swat, познакомитесь c библиотекой dlpy, позволяющей использовать функциональность SAS для глубинного обучения из Python, а так же построите с помощью этих библиотек модель для классификации изображений одежды.\n",
    "<br>\n",
    "Для выполнения заданий нужно самостоятельно написать или дополнить написанный код, а так же письменно ответить на вопросы (в зависимости от задания).\n",
    "\n",
    "**Домашнее задание построено следующим образом:**\n",
    "- Подключение к серверу CAS\n",
    "- Задание 1: Загрузка данных в CAS (1 балл)\n",
    "- Задание 2: Посмотрим на данные (1 балл)\n",
    "- Задание 3: Выделение валидационной выборки из train (1 балл)\n",
    "- Задание 4: Построение нейронной сети (3 балла)\n",
    "- Задание 5: Обучение сети (2 балла)\n",
    "- Задание 6: Оценка качества полученной модели (2 балла)\n",
    "- Дополнительное задание: Aугментации исходных данных (+2 балла)<br>\n",
    "\n",
    "Итого, полностью выполнив задание вы получите 10 баллов. Вы также можете выполнить дополнительное задание, чтобы получить еще 2 бонусных балла.\n",
    "\n",
    "### Формат сдачи\n",
    "\n",
    "После того, как вы выполните домашную работу, поместите jupyter notebook с выполнеными заданиями, а так же все SAS-таблицы с сохраненными моделями в закрытый git-репозиторий на GitHub. Предоставьте доступ к репозиторию аккаунтам GazizovMarat и Ala1s (добавив в свой реппозиторий в качестве коллабораторов).\n",
    "\n",
    "### Важно \n",
    "Для того, чтобы ваши результаты были воспроизводимыми для проверки, указывайте seed при вызове методов, где это возможно. Напоминания об этом так же содержатся в тексте заданий."
   ]
  },
  {
   "cell_type": "code",
   "execution_count": 1,
   "metadata": {},
   "outputs": [],
   "source": [
    "import os\n",
    "import numpy as np\n",
    "import cv2\n",
    "from tqdm import tqdm\n",
    "import matplotlib.pyplot as plt\n",
    "%matplotlib inline\n",
    "\n",
    "from swat import *\n",
    "from dlpy import Model, Sequential\n",
    "from dlpy import metrics\n",
    "from dlpy.layers import *\n",
    "from dlpy.images import ImageTable\n",
    "from dlpy.splitting import two_way_split"
   ]
  },
  {
   "cell_type": "markdown",
   "metadata": {},
   "source": [
    "## Подключение к серверу CAS"
   ]
  },
  {
   "cell_type": "markdown",
   "metadata": {},
   "source": [
    "Подключитесь к серверу CAS под своим логином и паролем.<br>Загрузите следующие Action Sets: 'image','deepLearn'.<br>\n",
    "<br>\n",
    "Для выполнения задания обратитесь к документации по следующим ссылкам: <br>\n",
    "- https://sassoftware.github.io/python-swat/getting-started.html <br>"
   ]
  },
  {
   "cell_type": "code",
   "execution_count": 2,
   "metadata": {},
   "outputs": [
    {
     "name": "stdout",
     "output_type": "stream",
     "text": [
      "NOTE: Added action set 'image'.\n",
      "NOTE: Added action set 'deepLearn'.\n",
      "NOTE: Added action set 'datastep'.\n"
     ]
    },
    {
     "data": {
      "text/html": [
       "<div class=\"cas-results-key\"><b>&#167; actionset</b></div>\n",
       "<div class=\"cas-results-body\">\n",
       "<div>datastep</div>\n",
       "</div>\n",
       "<div class=\"cas-output-area\"></div>\n",
       "<p class=\"cas-results-performance\"><small><span class=\"cas-elapsed\">elapsed 0.000453s</span> &#183; <span class=\"cas-user\">user 0.000236s</span> &#183; <span class=\"cas-sys\">sys 0.000166s</span> &#183; <span class=\"cas-memory\">mem 0.203MB</span></small></p>"
      ],
      "text/plain": [
       "[actionset]\n",
       "\n",
       " 'datastep'\n",
       "\n",
       "+ Elapsed: 0.000453s, user: 0.000236s, sys: 0.000166s, mem: 0.203mb"
      ]
     },
     "execution_count": 2,
     "metadata": {},
     "output_type": "execute_result"
    }
   ],
   "source": [
    "# os.environ['CAS_CLIENT_SSL_CA_LIST'] = r\"/tmp/4fix/trustedcerts.pem\"\n",
    "\n",
    "# Создаем новую сессию CAS:\n",
    "\n",
    "s = CAS('tiger.cs.msu.ru', 5570, username='msu59', password='HumbolDt%~')\n",
    "\n",
    "# Загружаем action sets:\n",
    "\n",
    "s.loadactionset('image')\n",
    "s.loadactionset('deepLearn')\n",
    "s.loadactionset('datastep')"
   ]
  },
  {
   "cell_type": "markdown",
   "metadata": {},
   "source": [
    "#### Загрузка данных\n",
    "Для работы с изображениями в SAS DLPy используются специализированные таблицы - ImageTable. Для загрузки набора данных, помимо сессии CAS и названия для новой таблицы, требуется указать путь к папке с набором данных сервере. \n",
    "При загрузке нужно указать путь к папке, устроенной следующим образом: <br>\n",
    "* shirt\n",
    "    - shirt_image0.png\n",
    "    - shirt_image1.png\n",
    "    - ...\n",
    "* pants\n",
    "    - pants_image0.png\n",
    "    - pants_image1.png\n",
    "    - ...\n",
    "* ... \n",
    "<br>\n",
    "То есть, папка должна состоять из подпапок, называющихся соответственно классам обьектов на изображении. В каждой из таких подпапок должны лежать все изобращения с обьектами соответствующего класса.<br>\n",
    "Папки train-images (обучающая выборка) и t10k-images (тестовая выборка) внутри папки data в этом репозитории устроены описанным выше образом. \n",
    "Также, данные fashion-MNIST можно скачать из следующего репозитория:<br> \n",
    "- https://github.com/zalandoresearch/fashion-mnist <br>\n",
    "\n",
    "**Задание 1: Загрузка данных в CAS**<br>\n",
    "Загрузите обучающие и тестовые данные в CAS, создав ImageTable (для каждой выборки отдельно)."
   ]
  },
  {
   "cell_type": "code",
   "execution_count": 3,
   "metadata": {},
   "outputs": [],
   "source": [
    "home = '/var/home/msu59/sasuser.viya/SAS-CV-2020-Homework1/'"
   ]
  },
  {
   "cell_type": "code",
   "execution_count": 4,
   "metadata": {},
   "outputs": [],
   "source": [
    "# создайте ImageTable для обучающей выборки #"
   ]
  },
  {
   "cell_type": "code",
   "execution_count": 5,
   "metadata": {},
   "outputs": [],
   "source": [
    "train_data = ImageTable.load_files(s, path=f'{home}data/train-images')"
   ]
  },
  {
   "cell_type": "code",
   "execution_count": 6,
   "metadata": {},
   "outputs": [],
   "source": [
    "# создайте ImageTable для тестовой выборки #"
   ]
  },
  {
   "cell_type": "code",
   "execution_count": 7,
   "metadata": {},
   "outputs": [],
   "source": [
    "test_data = ImageTable.load_files(s, path=f'{home}data/t10k-images')"
   ]
  },
  {
   "cell_type": "code",
   "execution_count": null,
   "metadata": {},
   "outputs": [],
   "source": []
  },
  {
   "cell_type": "markdown",
   "metadata": {},
   "source": [
    "**Задание 2: Исследование данных**<br>\n",
    "а) С помощью метода show выведите 16 случайных изображений из ImageTable в таблице размером 4x4 ячейки (для train и test отдельно)."
   ]
  },
  {
   "cell_type": "code",
   "execution_count": 8,
   "metadata": {
    "scrolled": true
   },
   "outputs": [],
   "source": [
    "# выведите 16 изображений из обучающей выборки #"
   ]
  },
  {
   "cell_type": "code",
   "execution_count": 9,
   "metadata": {},
   "outputs": [
    {
     "data": {
      "image/png": "[encoded data removed]",
      "text/plain": [
       "<Figure size 1152x1440 with 16 Axes>"
      ]
     },
     "metadata": {},
     "output_type": "display_data"
    }
   ],
   "source": [
    "train_data.show(nimages=16, ncol=4, randomize=True)"
   ]
  },
  {
   "cell_type": "code",
   "execution_count": 10,
   "metadata": {},
   "outputs": [],
   "source": [
    "# выведите 16 изображений из тестовой выборки #"
   ]
  },
  {
   "cell_type": "code",
   "execution_count": 11,
   "metadata": {},
   "outputs": [
    {
     "data": {
      "image/png": "[encoded data removed]",
      "text/plain": [
       "<Figure size 1152x1440 with 16 Axes>"
      ]
     },
     "metadata": {},
     "output_type": "display_data"
    }
   ],
   "source": [
    "test_data.show(nimages=16, ncol=4, randomize=True)"
   ]
  },
  {
   "cell_type": "markdown",
   "metadata": {},
   "source": [
    "b) Найдите метод класса ImageTable, позволяющий подсчитать статистику по метаданным таблицы (например, средние размеры или значения пикселей). Примените этот метод к таблицам, в которые вы загрузили наборы данных train и test."
   ]
  },
  {
   "cell_type": "code",
   "execution_count": 12,
   "metadata": {},
   "outputs": [],
   "source": [
    "# статистики по метаданным для train #"
   ]
  },
  {
   "cell_type": "code",
   "execution_count": 13,
   "metadata": {},
   "outputs": [
    {
     "data": {
      "text/plain": [
       "jpg                 60000\n",
       "minWidth               28\n",
       "maxWidth               28\n",
       "minHeight              28\n",
       "maxHeight              28\n",
       "meanWidth              28\n",
       "meanHeight             28\n",
       "mean1stChannel    72.9404\n",
       "min1stChannel           0\n",
       "max1stChannel         255\n",
       "mean2ndChannel          0\n",
       "min2ndChannel           0\n",
       "max2ndChannel           0\n",
       "mean3rdChannel          0\n",
       "min3rdChannel           0\n",
       "max3rdChannel           0\n",
       "dtype: object"
      ]
     },
     "execution_count": 13,
     "metadata": {},
     "output_type": "execute_result"
    }
   ],
   "source": [
    "train_data.image_summary"
   ]
  },
  {
   "cell_type": "code",
   "execution_count": 14,
   "metadata": {},
   "outputs": [],
   "source": [
    "# статистики по метаданным для test #"
   ]
  },
  {
   "cell_type": "code",
   "execution_count": 15,
   "metadata": {},
   "outputs": [
    {
     "data": {
      "text/plain": [
       "jpg                 10000\n",
       "minWidth               28\n",
       "maxWidth               28\n",
       "minHeight              28\n",
       "maxHeight              28\n",
       "meanWidth              28\n",
       "meanHeight             28\n",
       "mean1stChannel    73.1466\n",
       "min1stChannel           0\n",
       "max1stChannel         255\n",
       "mean2ndChannel          0\n",
       "min2ndChannel           0\n",
       "max2ndChannel           0\n",
       "mean3rdChannel          0\n",
       "min3rdChannel           0\n",
       "max3rdChannel           0\n",
       "dtype: object"
      ]
     },
     "execution_count": 15,
     "metadata": {},
     "output_type": "execute_result"
    }
   ],
   "source": [
    "test_data.image_summary"
   ]
  },
  {
   "cell_type": "markdown",
   "metadata": {},
   "source": [
    "**Задание 3: Выделение валидационной выборки из train**<br>\n",
    "- Перед тем, как выделить из train выборку для валидации модели, посмотрите на распределение классов (с помощью свойства ImageTable).\n",
    "- Выделите из таблицы train выборку в размере 15 процентов от исходного с помощью two_way_split. Убедитесь, что вы задали seed, для того, чтобы мы могли воспроизвести и проверить ваши результаты), а возвращаемые таблицы - типа ImageTable, как и исходная.\n",
    "- После выделения validate выборки, снова посмотрите на распреление классов на train и validate выборках, чтобы убедиться, что в обеих выборках присутстует равное количество примеров для каждого из классов."
   ]
  },
  {
   "cell_type": "code",
   "execution_count": 16,
   "metadata": {},
   "outputs": [
    {
     "data": {
      "text/html": [
       "<div>\n",
       "<style scoped>\n",
       "    .dataframe tbody tr th:only-of-type {\n",
       "        vertical-align: middle;\n",
       "    }\n",
       "\n",
       "    .dataframe tbody tr th {\n",
       "        vertical-align: top;\n",
       "    }\n",
       "\n",
       "    .dataframe thead th {\n",
       "        text-align: right;\n",
       "    }\n",
       "</style>\n",
       "<table border=\"1\" class=\"dataframe\"><caption>Frequency for IMAGEDATA_8OSI9L</caption>\n",
       "  <thead>\n",
       "    <tr style=\"text-align: right;\">\n",
       "      <th title=\"\"></th>\n",
       "      <th title=\"Level\">Level</th>\n",
       "      <th title=\"Frequency\">Frequency</th>\n",
       "    </tr>\n",
       "  </thead>\n",
       "  <tbody>\n",
       "    <tr>\n",
       "      <th>Ankle_boot</th>\n",
       "      <td>1</td>\n",
       "      <td>6000</td>\n",
       "    </tr>\n",
       "    <tr>\n",
       "      <th>Bag</th>\n",
       "      <td>2</td>\n",
       "      <td>6000</td>\n",
       "    </tr>\n",
       "    <tr>\n",
       "      <th>Coat</th>\n",
       "      <td>3</td>\n",
       "      <td>6000</td>\n",
       "    </tr>\n",
       "    <tr>\n",
       "      <th>Dress</th>\n",
       "      <td>4</td>\n",
       "      <td>6000</td>\n",
       "    </tr>\n",
       "    <tr>\n",
       "      <th>Pullover</th>\n",
       "      <td>5</td>\n",
       "      <td>6000</td>\n",
       "    </tr>\n",
       "    <tr>\n",
       "      <th>Sandal</th>\n",
       "      <td>6</td>\n",
       "      <td>6000</td>\n",
       "    </tr>\n",
       "    <tr>\n",
       "      <th>Shirt</th>\n",
       "      <td>7</td>\n",
       "      <td>6000</td>\n",
       "    </tr>\n",
       "    <tr>\n",
       "      <th>Sneaker</th>\n",
       "      <td>8</td>\n",
       "      <td>6000</td>\n",
       "    </tr>\n",
       "    <tr>\n",
       "      <th>T-shirt|top</th>\n",
       "      <td>9</td>\n",
       "      <td>6000</td>\n",
       "    </tr>\n",
       "    <tr>\n",
       "      <th>Trouser</th>\n",
       "      <td>10</td>\n",
       "      <td>6000</td>\n",
       "    </tr>\n",
       "  </tbody>\n",
       "</table>\n",
       "</div>"
      ],
      "text/plain": [
       "Frequency for IMAGEDATA_8OSI9L\n",
       "\n",
       "             Level  Frequency\n",
       "Ankle_boot       1       6000\n",
       "Bag              2       6000\n",
       "Coat             3       6000\n",
       "Dress            4       6000\n",
       "Pullover         5       6000\n",
       "Sandal           6       6000\n",
       "Shirt            7       6000\n",
       "Sneaker          8       6000\n",
       "T-shirt|top      9       6000\n",
       "Trouser         10       6000"
      ]
     },
     "execution_count": 16,
     "metadata": {},
     "output_type": "execute_result"
    }
   ],
   "source": [
    "train_data.label_freq"
   ]
  },
  {
   "cell_type": "code",
   "execution_count": 17,
   "metadata": {},
   "outputs": [],
   "source": [
    "# код для деления на 2 выборки\n",
    "train_data, val_data = two_way_split(train_data, test_rate=15, seed=42)"
   ]
  },
  {
   "cell_type": "code",
   "execution_count": 18,
   "metadata": {},
   "outputs": [
    {
     "data": {
      "text/html": [
       "<div>\n",
       "<style scoped>\n",
       "    .dataframe tbody tr th:only-of-type {\n",
       "        vertical-align: middle;\n",
       "    }\n",
       "\n",
       "    .dataframe tbody tr th {\n",
       "        vertical-align: top;\n",
       "    }\n",
       "\n",
       "    .dataframe thead th {\n",
       "        text-align: right;\n",
       "    }\n",
       "</style>\n",
       "<table border=\"1\" class=\"dataframe\"><caption>Frequency for TRAIN_J2BTKT</caption>\n",
       "  <thead>\n",
       "    <tr style=\"text-align: right;\">\n",
       "      <th title=\"\"></th>\n",
       "      <th title=\"Level\">Level</th>\n",
       "      <th title=\"Frequency\">Frequency</th>\n",
       "    </tr>\n",
       "  </thead>\n",
       "  <tbody>\n",
       "    <tr>\n",
       "      <th>Ankle_boot</th>\n",
       "      <td>1</td>\n",
       "      <td>5100</td>\n",
       "    </tr>\n",
       "    <tr>\n",
       "      <th>Bag</th>\n",
       "      <td>2</td>\n",
       "      <td>5100</td>\n",
       "    </tr>\n",
       "    <tr>\n",
       "      <th>Coat</th>\n",
       "      <td>3</td>\n",
       "      <td>5100</td>\n",
       "    </tr>\n",
       "    <tr>\n",
       "      <th>Dress</th>\n",
       "      <td>4</td>\n",
       "      <td>5100</td>\n",
       "    </tr>\n",
       "    <tr>\n",
       "      <th>Pullover</th>\n",
       "      <td>5</td>\n",
       "      <td>5100</td>\n",
       "    </tr>\n",
       "    <tr>\n",
       "      <th>Sandal</th>\n",
       "      <td>6</td>\n",
       "      <td>5100</td>\n",
       "    </tr>\n",
       "    <tr>\n",
       "      <th>Shirt</th>\n",
       "      <td>7</td>\n",
       "      <td>5100</td>\n",
       "    </tr>\n",
       "    <tr>\n",
       "      <th>Sneaker</th>\n",
       "      <td>8</td>\n",
       "      <td>5100</td>\n",
       "    </tr>\n",
       "    <tr>\n",
       "      <th>T-shirt|top</th>\n",
       "      <td>9</td>\n",
       "      <td>5100</td>\n",
       "    </tr>\n",
       "    <tr>\n",
       "      <th>Trouser</th>\n",
       "      <td>10</td>\n",
       "      <td>5100</td>\n",
       "    </tr>\n",
       "  </tbody>\n",
       "</table>\n",
       "</div>"
      ],
      "text/plain": [
       "Frequency for TRAIN_J2BTKT\n",
       "\n",
       "             Level  Frequency\n",
       "Ankle_boot       1       5100\n",
       "Bag              2       5100\n",
       "Coat             3       5100\n",
       "Dress            4       5100\n",
       "Pullover         5       5100\n",
       "Sandal           6       5100\n",
       "Shirt            7       5100\n",
       "Sneaker          8       5100\n",
       "T-shirt|top      9       5100\n",
       "Trouser         10       5100"
      ]
     },
     "execution_count": 18,
     "metadata": {},
     "output_type": "execute_result"
    }
   ],
   "source": [
    "train_data.label_freq"
   ]
  },
  {
   "cell_type": "code",
   "execution_count": 19,
   "metadata": {},
   "outputs": [
    {
     "data": {
      "text/html": [
       "<div>\n",
       "<style scoped>\n",
       "    .dataframe tbody tr th:only-of-type {\n",
       "        vertical-align: middle;\n",
       "    }\n",
       "\n",
       "    .dataframe tbody tr th {\n",
       "        vertical-align: top;\n",
       "    }\n",
       "\n",
       "    .dataframe thead th {\n",
       "        text-align: right;\n",
       "    }\n",
       "</style>\n",
       "<table border=\"1\" class=\"dataframe\"><caption>Frequency for TEST_OJA0NU</caption>\n",
       "  <thead>\n",
       "    <tr style=\"text-align: right;\">\n",
       "      <th title=\"\"></th>\n",
       "      <th title=\"Level\">Level</th>\n",
       "      <th title=\"Frequency\">Frequency</th>\n",
       "    </tr>\n",
       "  </thead>\n",
       "  <tbody>\n",
       "    <tr>\n",
       "      <th>Ankle_boot</th>\n",
       "      <td>1</td>\n",
       "      <td>900</td>\n",
       "    </tr>\n",
       "    <tr>\n",
       "      <th>Bag</th>\n",
       "      <td>2</td>\n",
       "      <td>900</td>\n",
       "    </tr>\n",
       "    <tr>\n",
       "      <th>Coat</th>\n",
       "      <td>3</td>\n",
       "      <td>900</td>\n",
       "    </tr>\n",
       "    <tr>\n",
       "      <th>Dress</th>\n",
       "      <td>4</td>\n",
       "      <td>900</td>\n",
       "    </tr>\n",
       "    <tr>\n",
       "      <th>Pullover</th>\n",
       "      <td>5</td>\n",
       "      <td>900</td>\n",
       "    </tr>\n",
       "    <tr>\n",
       "      <th>Sandal</th>\n",
       "      <td>6</td>\n",
       "      <td>900</td>\n",
       "    </tr>\n",
       "    <tr>\n",
       "      <th>Shirt</th>\n",
       "      <td>7</td>\n",
       "      <td>900</td>\n",
       "    </tr>\n",
       "    <tr>\n",
       "      <th>Sneaker</th>\n",
       "      <td>8</td>\n",
       "      <td>900</td>\n",
       "    </tr>\n",
       "    <tr>\n",
       "      <th>T-shirt|top</th>\n",
       "      <td>9</td>\n",
       "      <td>900</td>\n",
       "    </tr>\n",
       "    <tr>\n",
       "      <th>Trouser</th>\n",
       "      <td>10</td>\n",
       "      <td>900</td>\n",
       "    </tr>\n",
       "  </tbody>\n",
       "</table>\n",
       "</div>"
      ],
      "text/plain": [
       "Frequency for TEST_OJA0NU\n",
       "\n",
       "             Level  Frequency\n",
       "Ankle_boot       1        900\n",
       "Bag              2        900\n",
       "Coat             3        900\n",
       "Dress            4        900\n",
       "Pullover         5        900\n",
       "Sandal           6        900\n",
       "Shirt            7        900\n",
       "Sneaker          8        900\n",
       "T-shirt|top      9        900\n",
       "Trouser         10        900"
      ]
     },
     "execution_count": 19,
     "metadata": {},
     "output_type": "execute_result"
    }
   ],
   "source": [
    "val_data.label_freq"
   ]
  },
  {
   "attachments": {
    "model.PNG": {
     "image/png": "[encoded data removed]"
    }
   },
   "cell_type": "markdown",
   "metadata": {},
   "source": [
    "**Задание 4: Построение модели**<br>\n",
    "Постройте модель, соответствующую изображенной на картинке, c помощью dlpy в Sequential-подходе.\n",
    "![model.PNG](attachment:model.PNG)"
   ]
  },
  {
   "cell_type": "code",
   "execution_count": 20,
   "metadata": {},
   "outputs": [
    {
     "name": "stdout",
     "output_type": "stream",
     "text": [
      "NOTE: Input layer added.\n",
      "NOTE: Convolution layer added.\n",
      "NOTE: Pooling layer added.\n",
      "NOTE: Convolution layer added.\n",
      "NOTE: Pooling layer added.\n",
      "NOTE: Fully-connected layer added.\n",
      "NOTE: Fully-connected layer added.\n",
      "NOTE: Output layer added.\n",
      "NOTE: Model compiled successfully.\n"
     ]
    }
   ],
   "source": [
    "# код для построения модели #\n",
    "model = Sequential(conn=s, model_table=\"Simple_CNN\")\n",
    "model.add(InputLayer(n_channels=1, width=28, height=28))\n",
    "model.add(Conv2d(n_filters=6, width=5, height=5, stride=1))\n",
    "model.add(Pooling(width=2, height=2, stride=2, pool='max'))\n",
    "model.add(Conv2d(n_filters=16, width=5, height=5, stride=1))\n",
    "model.add(Pooling(width=2, height=2, stride=2, pool='max'))\n",
    "model.add(Dense(n=120))\n",
    "model.add(Dense(n=84))\n",
    "model.add(OutputLayer(n=10))\n"
   ]
  },
  {
   "cell_type": "markdown",
   "metadata": {},
   "source": [
    "**Задание 5: Oбучение модели**<br>\n",
    "а) Обучите построенную модель. Гиперпараметры для обучения уже заданы, менять их не требуется. Не забудьте задать seed, чтобы  ваши результаты были воспроизводимыми. Полученная вами модель должна показать Miscalssification Rate < 15% на тестовой выборке."
   ]
  },
  {
   "cell_type": "code",
   "execution_count": 21,
   "metadata": {},
   "outputs": [],
   "source": [
    "from dlpy.model import *\n",
    "from dlpy.model import Optimizer\n",
    "from dlpy.lr_scheduler import *"
   ]
  },
  {
   "cell_type": "code",
   "execution_count": 22,
   "metadata": {},
   "outputs": [
    {
     "name": "stdout",
     "output_type": "stream",
     "text": [
      "The following argument(s) learning_rate, gamma, step_size, power are overwritten by the according arguments specified in lr_scheduler.\n"
     ]
    }
   ],
   "source": [
    "# Variable for Number of Epochs\n",
    "nEpoch=50\n",
    "\n",
    "# Variable for Number of Threads\n",
    "nThread=4\n",
    "\n",
    "# Variable for Batch Size\n",
    "batchSize=128\n",
    "\n",
    "# Calculate miniBatch Size\n",
    "miniBatch=math.ceil(batchSize/nThread)\n",
    "\n",
    "# Define Learning Rate scheduler parameters\n",
    "lr_scheduler=ReduceLROnPlateau(conn=s, \n",
    "                               cool_down_iters=3, \n",
    "                               gamma=0.8, \n",
    "                               learning_rate=0.001, \n",
    "                               patience=5\n",
    "                               )\n",
    "\n",
    "# Define Momentum Solver parameters\n",
    "solver=MomentumSolver(lr_scheduler=lr_scheduler,\n",
    "                      clip_grad_max = 100, \n",
    "                      clip_grad_min = -100\n",
    "                      )                       \n",
    "\n",
    "# Define Solver optimizer parameter settings\n",
    "optimizer=Optimizer(seed=12345, \n",
    "                    algorithm=solver, \n",
    "                    mini_batch_size = miniBatch, \n",
    "                    log_level=2, \n",
    "                    max_epochs=nEpoch, \n",
    "                    reg_l2=0.0005\n",
    "                    )\n"
   ]
  },
  {
   "cell_type": "code",
   "execution_count": 23,
   "metadata": {},
   "outputs": [
    {
     "name": "stdout",
     "output_type": "stream",
     "text": [
      "NOTE: Inputs=_image_ is used\n",
      "NOTE: Training from scratch.\n",
      "NOTE:  Synchronous mode is enabled.\n",
      "NOTE:  The total number of parameters is 107786.\n",
      "NOTE:  The approximate memory cost is 16.00 MB.\n",
      "NOTE:  Loading weights cost       0.00 (s).\n",
      "NOTE:  Initializing each layer cost       0.07 (s).\n",
      "NOTE:  The total number of threads on each worker is 4.\n",
      "NOTE:  The total mini-batch size per thread on each worker is 32.\n",
      "NOTE:  The maximum mini-batch size across all workers for the synchronous mode is 128.\n",
      "NOTE:  Target variable: _label_\n",
      "NOTE:  Number of levels for the target variable:     10\n",
      "NOTE:  Levels for the target variable:\n",
      "NOTE:  Level      0: Ankle_boot \n",
      "NOTE:  Level      1: Bag        \n",
      "NOTE:  Level      2: Coat       \n",
      "NOTE:  Level      3: Dress      \n",
      "NOTE:  Level      4: Pullover   \n",
      "NOTE:  Level      5: Sandal     \n",
      "NOTE:  Level      6: Shirt      \n",
      "NOTE:  Level      7: Sneaker    \n",
      "NOTE:  Level      8: T-shirt|top\n",
      "NOTE:  Level      9: Trouser    \n",
      "NOTE:  Number of input variables:     1\n",
      "NOTE:  Number of numeric input variables:      1\n",
      "NOTE:  Epoch Learning Rate        Loss  Fit Error  Validation Loss Validation Error   Time(s)\n",
      "NOTE:  0         0.001           1.371     0.4535           0.6727           0.2466     9.03\n",
      "NOTE:  1         0.001          0.5815     0.2099           0.5497           0.2024     9.10\n",
      "NOTE:  2         0.001          0.5151     0.1925           0.5436           0.2079     9.07\n",
      "NOTE:  3         0.001          0.4797      0.178             0.49           0.1811     9.06\n",
      "NOTE:  4         0.001          0.4487     0.1657           0.4538            0.164     8.82\n",
      "NOTE:  5         0.001          0.4194      0.152           0.4304           0.1561     8.97\n",
      "NOTE:  6         0.001          0.3904     0.1435           0.4158           0.1517     9.44\n",
      "NOTE:  7         0.001           0.375     0.1368           0.3966           0.1433     9.12\n",
      "NOTE:  8         0.001          0.3617     0.1333           0.3951           0.1454     8.92\n",
      "NOTE:  9         0.001          0.3529     0.1295           0.3812           0.1409     8.92\n",
      "NOTE:  10        0.001          0.3436     0.1262           0.3699           0.1331     9.08\n",
      "NOTE:  11        0.001          0.3355     0.1248           0.3745           0.1374     8.98\n",
      "NOTE:  12        0.001           0.322     0.1179            0.371           0.1362     9.29\n",
      "NOTE:  13        0.001          0.3142     0.1177           0.3959           0.1388    12.11\n",
      "NOTE:  14        0.001          0.3108     0.1139           0.3574           0.1319     8.92\n",
      "NOTE:  15        0.001          0.3018     0.1128           0.3538           0.1261     9.03\n",
      "NOTE:  16        0.001          0.2933     0.1089            0.348           0.1284     9.16\n",
      "NOTE:  17        0.001          0.2944     0.1096           0.3431           0.1243     9.16\n",
      "NOTE:  18        0.001          0.2859     0.1084           0.3505            0.125     8.82\n",
      "NOTE:  19        0.001          0.2781     0.1044           0.3306            0.118     8.93\n",
      "NOTE:  20        0.001          0.2817     0.1059           0.3341           0.1204     9.51\n",
      "NOTE:  21        0.001          0.2728     0.1023           0.3424           0.1217     8.90\n",
      "NOTE:  22        0.001          0.2695     0.1003           0.3385           0.1196     9.05\n",
      "NOTE:  23        0.001          0.2631    0.09904           0.3397           0.1211     9.08\n",
      "NOTE:  24        0.001          0.2609    0.09733            0.338           0.1208     9.22\n",
      "NOTE:  25        0.001          0.2589    0.09857            0.336           0.1174     8.89\n",
      "NOTE:  26        0.001          0.2533    0.09402           0.3347           0.1201     8.90\n",
      "NOTE:  27        0.001          0.2451    0.09142           0.3342           0.1187     9.09\n",
      "NOTE:  28        0.001          0.2417    0.09013           0.3363           0.1211     8.78\n",
      "NOTE:  29        0.001          0.2428    0.08966           0.3402            0.121     8.82\n",
      "NOTE:  30        0.001          0.2368    0.08743           0.3218            0.115     9.00\n",
      "NOTE:  31        0.001          0.2382    0.08944           0.3264           0.1139     9.25\n",
      "NOTE:  32        0.001          0.2367    0.08923           0.3406           0.1196     8.92\n",
      "NOTE:  33        0.001          0.2239    0.08347           0.3395           0.1169     8.97\n",
      "NOTE:  34        0.001          0.2295    0.08643           0.3287           0.1133     9.25\n",
      "NOTE:  35        0.001          0.2253    0.08402           0.3389            0.115     8.95\n",
      "NOTE:  36        0.001          0.2224    0.08433           0.3428           0.1139     8.89\n",
      "NOTE:  37        0.001          0.2187    0.08194           0.3346           0.1144     8.97\n",
      "NOTE:  38        0.001          0.2275    0.08482           0.3193           0.1123     9.01\n",
      "NOTE:  39        0.001          0.2122     0.0793           0.3368           0.1126     9.05\n",
      "NOTE:  40        0.001          0.2174    0.08075           0.3342           0.1156     8.94\n",
      "NOTE:  41        0.001          0.2143    0.08067           0.3353           0.1087     9.16\n",
      "NOTE:  42        0.001          0.2082    0.07769            0.346           0.1161     8.94\n",
      "NOTE:  43        0.001          0.2116    0.07897            0.355           0.1177     8.90\n",
      "NOTE:  44        0.001          0.2069    0.07554           0.3352           0.1153     9.08\n",
      "NOTE:  45        0.001          0.2069    0.07769           0.3417           0.1146     9.03\n",
      "NOTE:  46        0.001          0.2025    0.07652           0.3376           0.1116     8.85\n",
      "NOTE:  47        0.001          0.2018    0.07536           0.3445           0.1086     8.94\n",
      "NOTE:  48        0.001           0.198    0.07405            0.351           0.1102     9.27\n",
      "NOTE:  49        0.001           0.194    0.07249           0.3442           0.1154     8.85\n",
      "NOTE:  The optimization reached the maximum number of epochs.\n",
      "NOTE:  The total time is     454.40 (s).\n"
     ]
    }
   ],
   "source": [
    "# код для обучения модели\n",
    "train_history = model.fit(train_data, valid_table=val_data, mini_batch_size=miniBatch, max_epochs=nEpoch, \n",
    "                          n_threads=nThread, lr=lr_scheduler, optimizer=optimizer, seed=42)"
   ]
  },
  {
   "attachments": {
    "training.PNG": {
     "image/png": "[encoded data removed]"
    }
   },
   "cell_type": "markdown",
   "metadata": {},
   "source": [
    "b) Пользуясь значениями в history, постройте график, анологичный изображенному.\n",
    "![training.PNG](attachment:training.PNG)"
   ]
  },
  {
   "cell_type": "code",
   "execution_count": 24,
   "metadata": {},
   "outputs": [],
   "source": [
    "#код для построения графика#"
   ]
  },
  {
   "cell_type": "code",
   "execution_count": 25,
   "metadata": {},
   "outputs": [
    {
     "data": {
      "text/plain": [
       "<matplotlib.axes._subplots.AxesSubplot at 0x7f535b06e510>"
      ]
     },
     "execution_count": 25,
     "metadata": {},
     "output_type": "execute_result"
    },
    {
     "data": {
      "image/png": "[encoded data removed]",
      "text/plain": [
       "<Figure size 432x288 with 1 Axes>"
      ]
     },
     "metadata": {
      "needs_background": "light"
     },
     "output_type": "display_data"
    },
    {
     "data": {
      "image/png": "[encoded data removed]",
      "text/plain": [
       "<Figure size 864x360 with 1 Axes>"
      ]
     },
     "metadata": {
      "needs_background": "light"
     },
     "output_type": "display_data"
    }
   ],
   "source": [
    "history = train_history[\"OptIterHistory\"]\n",
    "plt.plot(range(len(history)), 1 - history['FitError'], label='train')\n",
    "plt.plot(range(len(history)), 1 - history['ValidError'], label='validation')\n",
    "plt.legend()\n",
    "plt.xlabel('Epoch')\n",
    "plt.ylabel('Accuracy')\n",
    "plt.title('Model Accuracy')\n",
    "\n",
    "model.plot_training_history()"
   ]
  },
  {
   "cell_type": "markdown",
   "metadata": {},
   "source": [
    "**Задание 6: Oценка качества модели**<br>"
   ]
  },
  {
   "cell_type": "markdown",
   "metadata": {},
   "source": [
    "а) Выведите матрицу ошибок на валидационной выборке для модели и ответьте на следующие вопросы:\n",
    "- Сколько изображений сумок было корректно классифицированно моделью?\n",
    "- Сколько пулловеров было классифицированно моделью как рубашки? Наоборот?\n",
    "- В классификации какого предмета одежды модель ошибалась чаще всего? А реже всего?"
   ]
  },
  {
   "cell_type": "code",
   "execution_count": 26,
   "metadata": {},
   "outputs": [],
   "source": [
    "# код для вывода матрицы ошибок#"
   ]
  },
  {
   "cell_type": "code",
   "execution_count": 27,
   "metadata": {},
   "outputs": [
    {
     "data": {
      "text/html": [
       "<div class=\"cas-results-key\"><b>&#167; ScoreInfo</b></div>\n",
       "<div class=\"cas-results-body\">\n",
       "<div>\n",
       "<style scoped>\n",
       "    .dataframe tbody tr th:only-of-type {\n",
       "        vertical-align: middle;\n",
       "    }\n",
       "\n",
       "    .dataframe tbody tr th {\n",
       "        vertical-align: top;\n",
       "    }\n",
       "\n",
       "    .dataframe thead th {\n",
       "        text-align: right;\n",
       "    }\n",
       "</style>\n",
       "<table border=\"1\" class=\"dataframe\">\n",
       "  <thead>\n",
       "    <tr style=\"text-align: right;\">\n",
       "      <th title=\"\"></th>\n",
       "      <th title=\"Descr\">Descr</th>\n",
       "      <th title=\"Value\">Value</th>\n",
       "    </tr>\n",
       "  </thead>\n",
       "  <tbody>\n",
       "    <tr>\n",
       "      <th>0</th>\n",
       "      <td>Number of Observations Read</td>\n",
       "      <td>9000</td>\n",
       "    </tr>\n",
       "    <tr>\n",
       "      <th>1</th>\n",
       "      <td>Number of Observations Used</td>\n",
       "      <td>9000</td>\n",
       "    </tr>\n",
       "    <tr>\n",
       "      <th>2</th>\n",
       "      <td>Misclassification Error (%)</td>\n",
       "      <td>11.54444</td>\n",
       "    </tr>\n",
       "    <tr>\n",
       "      <th>3</th>\n",
       "      <td>Loss Error</td>\n",
       "      <td>0.344232</td>\n",
       "    </tr>\n",
       "  </tbody>\n",
       "</table>\n",
       "</div>\n",
       "</div>\n",
       "<div class=\"cas-results-key\"><hr/><b>&#167; OutputCasTables</b></div>\n",
       "<div class=\"cas-results-body\">\n",
       "<div>\n",
       "<style scoped>\n",
       "    .dataframe tbody tr th:only-of-type {\n",
       "        vertical-align: middle;\n",
       "    }\n",
       "\n",
       "    .dataframe tbody tr th {\n",
       "        vertical-align: top;\n",
       "    }\n",
       "\n",
       "    .dataframe thead th {\n",
       "        text-align: right;\n",
       "    }\n",
       "</style>\n",
       "<table border=\"1\" class=\"dataframe\">\n",
       "  <thead>\n",
       "    <tr style=\"text-align: right;\">\n",
       "      <th title=\"\"></th>\n",
       "      <th title=\"CAS Library\">casLib</th>\n",
       "      <th title=\"Name\">Name</th>\n",
       "      <th title=\"Number of Rows\">Rows</th>\n",
       "      <th title=\"Number of Columns\">Columns</th>\n",
       "      <th title=\"Table\">casTable</th>\n",
       "    </tr>\n",
       "  </thead>\n",
       "  <tbody>\n",
       "    <tr>\n",
       "      <th>0</th>\n",
       "      <td>CASUSER(msu59)</td>\n",
       "      <td>Valid_Res_BpzTtF</td>\n",
       "      <td>9000</td>\n",
       "      <td>17</td>\n",
       "      <td>CASTable('Valid_Res_BpzTtF', caslib='CASUSER(m...</td>\n",
       "    </tr>\n",
       "  </tbody>\n",
       "</table>\n",
       "</div>\n",
       "</div>\n",
       "<div class=\"cas-output-area\"></div>\n",
       "<p class=\"cas-results-performance\"><small><span class=\"cas-elapsed\">elapsed 0.182s</span> &#183; <span class=\"cas-user\">user 3.11s</span> &#183; <span class=\"cas-sys\">sys 0.19s</span> &#183; <span class=\"cas-memory\">mem 117MB</span></small></p>"
      ],
      "text/plain": [
       "[ScoreInfo]\n",
       "\n",
       "                          Descr         Value\n",
       " 0  Number of Observations Read          9000\n",
       " 1  Number of Observations Used          9000\n",
       " 2  Misclassification Error (%)      11.54444\n",
       " 3                   Loss Error      0.344232\n",
       "\n",
       "[OutputCasTables]\n",
       "\n",
       "            casLib              Name  Rows  Columns  \\\n",
       " 0  CASUSER(msu59)  Valid_Res_BpzTtF  9000       17   \n",
       " \n",
       "                                             casTable  \n",
       " 0  CASTable('Valid_Res_BpzTtF', caslib='CASUSER(m...  \n",
       "\n",
       "+ Elapsed: 0.182s, user: 3.11s, sys: 0.19s, mem: 117mb"
      ]
     },
     "execution_count": 27,
     "metadata": {},
     "output_type": "execute_result"
    }
   ],
   "source": [
    "model.evaluate(val_data)"
   ]
  },
  {
   "cell_type": "code",
   "execution_count": 28,
   "metadata": {},
   "outputs": [
    {
     "data": {
      "text/html": [
       "<div class=\"cas-results-key\"><b>&#167; Crosstab</b></div>\n",
       "<div class=\"cas-results-body\">\n",
       "<div>\n",
       "<style scoped>\n",
       "    .dataframe tbody tr th:only-of-type {\n",
       "        vertical-align: middle;\n",
       "    }\n",
       "\n",
       "    .dataframe tbody tr th {\n",
       "        vertical-align: top;\n",
       "    }\n",
       "\n",
       "    .dataframe thead th {\n",
       "        text-align: right;\n",
       "    }\n",
       "</style>\n",
       "<table border=\"1\" class=\"dataframe\">\n",
       "  <thead>\n",
       "    <tr style=\"text-align: right;\">\n",
       "      <th title=\"\"></th>\n",
       "      <th title=\"_label_\">_label_</th>\n",
       "      <th title=\"Ankle_boot\">Col1</th>\n",
       "      <th title=\"Bag\">Col2</th>\n",
       "      <th title=\"Coat\">Col3</th>\n",
       "      <th title=\"Dress\">Col4</th>\n",
       "      <th title=\"Pullover\">Col5</th>\n",
       "      <th title=\"Sandal\">Col6</th>\n",
       "      <th title=\"Shirt\">Col7</th>\n",
       "      <th title=\"Sneaker\">Col8</th>\n",
       "      <th title=\"T-shirt|top\">Col9</th>\n",
       "      <th title=\"Trouser\">Col10</th>\n",
       "    </tr>\n",
       "  </thead>\n",
       "  <tbody>\n",
       "    <tr>\n",
       "      <th>0</th>\n",
       "      <td>Ankle_boot</td>\n",
       "      <td>871.0</td>\n",
       "      <td>0.0</td>\n",
       "      <td>0.0</td>\n",
       "      <td>0.0</td>\n",
       "      <td>0.0</td>\n",
       "      <td>11.0</td>\n",
       "      <td>0.0</td>\n",
       "      <td>18.0</td>\n",
       "      <td>0.0</td>\n",
       "      <td>0.0</td>\n",
       "    </tr>\n",
       "    <tr>\n",
       "      <th>1</th>\n",
       "      <td>Bag</td>\n",
       "      <td>0.0</td>\n",
       "      <td>869.0</td>\n",
       "      <td>4.0</td>\n",
       "      <td>5.0</td>\n",
       "      <td>4.0</td>\n",
       "      <td>3.0</td>\n",
       "      <td>7.0</td>\n",
       "      <td>2.0</td>\n",
       "      <td>6.0</td>\n",
       "      <td>0.0</td>\n",
       "    </tr>\n",
       "    <tr>\n",
       "      <th>2</th>\n",
       "      <td>Coat</td>\n",
       "      <td>0.0</td>\n",
       "      <td>6.0</td>\n",
       "      <td>706.0</td>\n",
       "      <td>47.0</td>\n",
       "      <td>71.0</td>\n",
       "      <td>0.0</td>\n",
       "      <td>67.0</td>\n",
       "      <td>0.0</td>\n",
       "      <td>2.0</td>\n",
       "      <td>1.0</td>\n",
       "    </tr>\n",
       "    <tr>\n",
       "      <th>3</th>\n",
       "      <td>Dress</td>\n",
       "      <td>0.0</td>\n",
       "      <td>2.0</td>\n",
       "      <td>24.0</td>\n",
       "      <td>824.0</td>\n",
       "      <td>3.0</td>\n",
       "      <td>0.0</td>\n",
       "      <td>28.0</td>\n",
       "      <td>0.0</td>\n",
       "      <td>13.0</td>\n",
       "      <td>6.0</td>\n",
       "    </tr>\n",
       "    <tr>\n",
       "      <th>4</th>\n",
       "      <td>Pullover</td>\n",
       "      <td>0.0</td>\n",
       "      <td>3.0</td>\n",
       "      <td>89.0</td>\n",
       "      <td>5.0</td>\n",
       "      <td>707.0</td>\n",
       "      <td>0.0</td>\n",
       "      <td>90.0</td>\n",
       "      <td>0.0</td>\n",
       "      <td>6.0</td>\n",
       "      <td>0.0</td>\n",
       "    </tr>\n",
       "    <tr>\n",
       "      <th>5</th>\n",
       "      <td>Sandal</td>\n",
       "      <td>7.0</td>\n",
       "      <td>1.0</td>\n",
       "      <td>0.0</td>\n",
       "      <td>0.0</td>\n",
       "      <td>0.0</td>\n",
       "      <td>880.0</td>\n",
       "      <td>0.0</td>\n",
       "      <td>11.0</td>\n",
       "      <td>1.0</td>\n",
       "      <td>0.0</td>\n",
       "    </tr>\n",
       "    <tr>\n",
       "      <th>6</th>\n",
       "      <td>Shirt</td>\n",
       "      <td>0.0</td>\n",
       "      <td>12.0</td>\n",
       "      <td>31.0</td>\n",
       "      <td>34.0</td>\n",
       "      <td>55.0</td>\n",
       "      <td>0.0</td>\n",
       "      <td>665.0</td>\n",
       "      <td>0.0</td>\n",
       "      <td>101.0</td>\n",
       "      <td>2.0</td>\n",
       "    </tr>\n",
       "    <tr>\n",
       "      <th>7</th>\n",
       "      <td>Sneaker</td>\n",
       "      <td>38.0</td>\n",
       "      <td>1.0</td>\n",
       "      <td>0.0</td>\n",
       "      <td>0.0</td>\n",
       "      <td>0.0</td>\n",
       "      <td>27.0</td>\n",
       "      <td>0.0</td>\n",
       "      <td>834.0</td>\n",
       "      <td>0.0</td>\n",
       "      <td>0.0</td>\n",
       "    </tr>\n",
       "    <tr>\n",
       "      <th>8</th>\n",
       "      <td>T-shirt|top</td>\n",
       "      <td>0.0</td>\n",
       "      <td>6.0</td>\n",
       "      <td>1.0</td>\n",
       "      <td>23.0</td>\n",
       "      <td>14.0</td>\n",
       "      <td>0.0</td>\n",
       "      <td>125.0</td>\n",
       "      <td>0.0</td>\n",
       "      <td>728.0</td>\n",
       "      <td>3.0</td>\n",
       "    </tr>\n",
       "    <tr>\n",
       "      <th>9</th>\n",
       "      <td>Trouser</td>\n",
       "      <td>0.0</td>\n",
       "      <td>1.0</td>\n",
       "      <td>0.0</td>\n",
       "      <td>17.0</td>\n",
       "      <td>1.0</td>\n",
       "      <td>0.0</td>\n",
       "      <td>1.0</td>\n",
       "      <td>0.0</td>\n",
       "      <td>3.0</td>\n",
       "      <td>877.0</td>\n",
       "    </tr>\n",
       "  </tbody>\n",
       "</table>\n",
       "</div>\n",
       "</div>\n",
       "<div class=\"cas-output-area\"></div>\n",
       "<p class=\"cas-results-performance\"><small><span class=\"cas-elapsed\">elapsed 0.00681s</span> &#183; <span class=\"cas-user\">user 0.0128s</span> &#183; <span class=\"cas-sys\">sys 0.00509s</span> &#183; <span class=\"cas-memory\">mem 2.48MB</span></small></p>"
      ],
      "text/plain": [
       "[Crosstab]\n",
       "\n",
       "        _label_   Col1   Col2   Col3   Col4   Col5   Col6   Col7   Col8   Col9  \\\n",
       " 0   Ankle_boot  871.0    0.0    0.0    0.0    0.0   11.0    0.0   18.0    0.0   \n",
       " 1          Bag    0.0  869.0    4.0    5.0    4.0    3.0    7.0    2.0    6.0   \n",
       " 2         Coat    0.0    6.0  706.0   47.0   71.0    0.0   67.0    0.0    2.0   \n",
       " 3        Dress    0.0    2.0   24.0  824.0    3.0    0.0   28.0    0.0   13.0   \n",
       " 4     Pullover    0.0    3.0   89.0    5.0  707.0    0.0   90.0    0.0    6.0   \n",
       " 5       Sandal    7.0    1.0    0.0    0.0    0.0  880.0    0.0   11.0    1.0   \n",
       " 6        Shirt    0.0   12.0   31.0   34.0   55.0    0.0  665.0    0.0  101.0   \n",
       " 7      Sneaker   38.0    1.0    0.0    0.0    0.0   27.0    0.0  834.0    0.0   \n",
       " 8  T-shirt|top    0.0    6.0    1.0   23.0   14.0    0.0  125.0    0.0  728.0   \n",
       " 9      Trouser    0.0    1.0    0.0   17.0    1.0    0.0    1.0    0.0    3.0   \n",
       " \n",
       "    Col10  \n",
       " 0    0.0  \n",
       " 1    0.0  \n",
       " 2    1.0  \n",
       " 3    6.0  \n",
       " 4    0.0  \n",
       " 5    0.0  \n",
       " 6    2.0  \n",
       " 7    0.0  \n",
       " 8    3.0  \n",
       " 9  877.0  \n",
       "\n",
       "+ Elapsed: 0.00681s, user: 0.0128s, sys: 0.00509s, mem: 2.48mb"
      ]
     },
     "execution_count": 28,
     "metadata": {},
     "output_type": "execute_result"
    }
   ],
   "source": [
    "model.valid_conf_mat"
   ]
  },
  {
   "cell_type": "markdown",
   "metadata": {},
   "source": [
    "Ваши ответы на вопросы:\n",
    "1) 869 изображений сумок было корректно классифицированно моделью\n",
    "2) 90 пулловеров было классифицированно моделью как рубашки. Наоборот 55\n",
    "3) чаще всего ошиблась в рубашке (665 верных), реже всего в сандалях (880 верных)"
   ]
  },
  {
   "cell_type": "markdown",
   "metadata": {},
   "source": [
    "b) Проскорьте модель на тестовой выборке."
   ]
  },
  {
   "cell_type": "code",
   "execution_count": 29,
   "metadata": {},
   "outputs": [
    {
     "data": {
      "text/html": [
       "<div class=\"cas-results-key\"><b>&#167; ScoreInfo</b></div>\n",
       "<div class=\"cas-results-body\">\n",
       "<div>\n",
       "<style scoped>\n",
       "    .dataframe tbody tr th:only-of-type {\n",
       "        vertical-align: middle;\n",
       "    }\n",
       "\n",
       "    .dataframe tbody tr th {\n",
       "        vertical-align: top;\n",
       "    }\n",
       "\n",
       "    .dataframe thead th {\n",
       "        text-align: right;\n",
       "    }\n",
       "</style>\n",
       "<table border=\"1\" class=\"dataframe\">\n",
       "  <thead>\n",
       "    <tr style=\"text-align: right;\">\n",
       "      <th title=\"\"></th>\n",
       "      <th title=\"Descr\">Descr</th>\n",
       "      <th title=\"Value\">Value</th>\n",
       "    </tr>\n",
       "  </thead>\n",
       "  <tbody>\n",
       "    <tr>\n",
       "      <th>0</th>\n",
       "      <td>Number of Observations Read</td>\n",
       "      <td>10000</td>\n",
       "    </tr>\n",
       "    <tr>\n",
       "      <th>1</th>\n",
       "      <td>Number of Observations Used</td>\n",
       "      <td>10000</td>\n",
       "    </tr>\n",
       "    <tr>\n",
       "      <th>2</th>\n",
       "      <td>Misclassification Error (%)</td>\n",
       "      <td>12.52</td>\n",
       "    </tr>\n",
       "    <tr>\n",
       "      <th>3</th>\n",
       "      <td>Loss Error</td>\n",
       "      <td>0.36655</td>\n",
       "    </tr>\n",
       "  </tbody>\n",
       "</table>\n",
       "</div>\n",
       "</div>\n",
       "<div class=\"cas-results-key\"><hr/><b>&#167; OutputCasTables</b></div>\n",
       "<div class=\"cas-results-body\">\n",
       "<div>\n",
       "<style scoped>\n",
       "    .dataframe tbody tr th:only-of-type {\n",
       "        vertical-align: middle;\n",
       "    }\n",
       "\n",
       "    .dataframe tbody tr th {\n",
       "        vertical-align: top;\n",
       "    }\n",
       "\n",
       "    .dataframe thead th {\n",
       "        text-align: right;\n",
       "    }\n",
       "</style>\n",
       "<table border=\"1\" class=\"dataframe\">\n",
       "  <thead>\n",
       "    <tr style=\"text-align: right;\">\n",
       "      <th title=\"\"></th>\n",
       "      <th title=\"CAS Library\">casLib</th>\n",
       "      <th title=\"Name\">Name</th>\n",
       "      <th title=\"Number of Rows\">Rows</th>\n",
       "      <th title=\"Number of Columns\">Columns</th>\n",
       "      <th title=\"Table\">casTable</th>\n",
       "    </tr>\n",
       "  </thead>\n",
       "  <tbody>\n",
       "    <tr>\n",
       "      <th>0</th>\n",
       "      <td>CASUSER(msu59)</td>\n",
       "      <td>Valid_Res_BpzTtF</td>\n",
       "      <td>10000</td>\n",
       "      <td>17</td>\n",
       "      <td>CASTable('Valid_Res_BpzTtF', caslib='CASUSER(m...</td>\n",
       "    </tr>\n",
       "  </tbody>\n",
       "</table>\n",
       "</div>\n",
       "</div>\n",
       "<div class=\"cas-output-area\"></div>\n",
       "<p class=\"cas-results-performance\"><small><span class=\"cas-elapsed\">elapsed 0.197s</span> &#183; <span class=\"cas-user\">user 3.44s</span> &#183; <span class=\"cas-sys\">sys 0.34s</span> &#183; <span class=\"cas-memory\">mem 117MB</span></small></p>"
      ],
      "text/plain": [
       "[ScoreInfo]\n",
       "\n",
       "                          Descr         Value\n",
       " 0  Number of Observations Read         10000\n",
       " 1  Number of Observations Used         10000\n",
       " 2  Misclassification Error (%)         12.52\n",
       " 3                   Loss Error       0.36655\n",
       "\n",
       "[OutputCasTables]\n",
       "\n",
       "            casLib              Name   Rows  Columns  \\\n",
       " 0  CASUSER(msu59)  Valid_Res_BpzTtF  10000       17   \n",
       " \n",
       "                                             casTable  \n",
       " 0  CASTable('Valid_Res_BpzTtF', caslib='CASUSER(m...  \n",
       "\n",
       "+ Elapsed: 0.197s, user: 3.44s, sys: 0.34s, mem: 117mb"
      ]
     },
     "execution_count": 29,
     "metadata": {},
     "output_type": "execute_result"
    }
   ],
   "source": [
    "# код для скоринга #\n",
    "model.evaluate(test_data)"
   ]
  },
  {
   "cell_type": "markdown",
   "metadata": {},
   "source": [
    "c) Выведите пример изображения, классифицированного верно, с помощью встроенной функции класса Model."
   ]
  },
  {
   "cell_type": "code",
   "execution_count": 30,
   "metadata": {},
   "outputs": [
    {
     "name": "stdout",
     "output_type": "stream",
     "text": [
      "NOTE: Table TEMP_PLOT contains compressed images.\n",
      "NOTE: Cloud Analytic Services dropped table TEMP_PLOT from caslib CASUSER(msu59).\n"
     ]
    },
    {
     "data": {
      "image/png": "[encoded data removed]",
      "text/plain": [
       "<Figure size 864x360 with 2 Axes>"
      ]
     },
     "metadata": {
      "needs_background": "light"
     },
     "output_type": "display_data"
    }
   ],
   "source": [
    "# код для вывода верно классифицированного изображения#\n",
    "model.plot_evaluate_res(img_type='C', n_images=1)"
   ]
  },
  {
   "cell_type": "markdown",
   "metadata": {},
   "source": [
    "d) Выведите пример изображения, классифицированного ошибочно, с помощью встроенной функции класса Model."
   ]
  },
  {
   "cell_type": "code",
   "execution_count": 31,
   "metadata": {},
   "outputs": [
    {
     "name": "stdout",
     "output_type": "stream",
     "text": [
      "NOTE: Table TEMP_PLOT contains compressed images.\n",
      "NOTE: Cloud Analytic Services dropped table TEMP_PLOT from caslib CASUSER(msu59).\n"
     ]
    },
    {
     "data": {
      "image/png": "[encoded data removed]",
      "text/plain": [
       "<Figure size 864x360 with 2 Axes>"
      ]
     },
     "metadata": {
      "needs_background": "light"
     },
     "output_type": "display_data"
    }
   ],
   "source": [
    "# код для вывода неверно классифицированного изображения#\n",
    "model.plot_evaluate_res(img_type='M', n_images=1)"
   ]
  },
  {
   "cell_type": "markdown",
   "metadata": {},
   "source": [
    "e) Сохраните полученную модель в SAS-таблицу, с помощью одного из методов класса Model."
   ]
  },
  {
   "cell_type": "code",
   "execution_count": 32,
   "metadata": {},
   "outputs": [
    {
     "name": "stdout",
     "output_type": "stream",
     "text": [
      "NOTE: Model table saved successfully.\n"
     ]
    }
   ],
   "source": [
    "# код для сохранения модели #\n",
    "save_path = f'{os.getcwd()}/first_model/'\n",
    "if not os.path.isdir(save_path):\n",
    "    os.makedirs(save_path)\n",
    "model.deploy(path=save_path, output_format='table')"
   ]
  },
  {
   "cell_type": "markdown",
   "metadata": {},
   "source": [
    "**Дополнительное задание: Aугментации исходных данных**<br>\n",
    "Изучите документацию к CAS-action augmentImages. Попробуйте улучшить результат предыдущей модели, применив аугментации к исходным данным и, по желанию, другие техники для улучшения качества модели. Полученную модель проскорьте на тестовой выборке и сохраните в SAS-таблицу. Выведите метрики качества новой модели на тестовой выборке."
   ]
  },
  {
   "cell_type": "code",
   "execution_count": 33,
   "metadata": {},
   "outputs": [],
   "source": [
    "# аугментация у меня давала плохой результат и разобраться в документации с этим оказалось проблематично. \n",
    "# поэтому я просто сделал другую архитекртуру нейронной сети\n",
    "\n",
    "# train_data.as_patches(width=24, height=24, step_size=2, output_width=28, output_height=28)\n",
    "# augmented = s.augmentImages(table=train_data, casout=dict(name='augmented'),\n",
    "#                 cropList=[dict(sweepImage=True, x=0, y=0,\n",
    "#                                        width=25, height=25,\n",
    "#                                        outputwidth=28,\n",
    "#                                        outputheight=28,\n",
    "#                                        mask=True)])"
   ]
  },
  {
   "cell_type": "code",
   "execution_count": 34,
   "metadata": {},
   "outputs": [
    {
     "data": {
      "text/plain": [
       "jpg                 51000\n",
       "minWidth               28\n",
       "maxWidth               28\n",
       "minHeight              28\n",
       "maxHeight              28\n",
       "meanWidth              28\n",
       "meanHeight             28\n",
       "mean1stChannel    72.9433\n",
       "min1stChannel           0\n",
       "max1stChannel         255\n",
       "mean2ndChannel          0\n",
       "min2ndChannel           0\n",
       "max2ndChannel           0\n",
       "mean3rdChannel          0\n",
       "min3rdChannel           0\n",
       "max3rdChannel           0\n",
       "dtype: object"
      ]
     },
     "execution_count": 34,
     "metadata": {},
     "output_type": "execute_result"
    }
   ],
   "source": [
    "train_data.image_summary"
   ]
  },
  {
   "cell_type": "code",
   "execution_count": 35,
   "metadata": {},
   "outputs": [
    {
     "name": "stdout",
     "output_type": "stream",
     "text": [
      "NOTE: Input layer added.\n",
      "NOTE: Convolution layer added.\n",
      "NOTE: Batch normalization layer added.\n",
      "NOTE: Convolution layer added.\n",
      "NOTE: Batch normalization layer added.\n",
      "NOTE: Pooling layer added.\n",
      "NOTE: Fully-connected layer added.\n",
      "NOTE: Fully-connected layer added.\n",
      "NOTE: Output layer added.\n",
      "NOTE: Model compiled successfully.\n"
     ]
    }
   ],
   "source": [
    "model2 = Sequential(conn=s, model_table=\"almost_simple_CNN\")\n",
    "model2.add(InputLayer(n_channels=1, width=28, height=28))\n",
    "model2.add(Conv2d(n_filters=6, width=5, height=5, stride=2, act=None))\n",
    "model2.add(BN(act='relu'))\n",
    "model2.add(Conv2d(n_filters=16, width=5, height=5, stride=2, act=None))\n",
    "model2.add(BN(act='relu'))\n",
    "model2.add(Pooling(width=2, height=2, stride=2, pool='max'))\n",
    "model2.add(Dense(n=120, dropout=0.2))\n",
    "model2.add(Dense(n=84, dropout=0.2))\n",
    "model2.add(OutputLayer(n=10))"
   ]
  },
  {
   "cell_type": "code",
   "execution_count": 36,
   "metadata": {},
   "outputs": [
    {
     "name": "stdout",
     "output_type": "stream",
     "text": [
      "NOTE: Inputs=_image_ is used\n",
      "NOTE: Training from scratch.\n",
      "WARNING: The source layer convo.1 to batch normalization layer b.n.1 includes a bias term.\n",
      "WARNING: The source layer convo.1 to batch normalization layer b.n.1 does not have an IDENTITY activation function.\n",
      "WARNING: The source layer convo.2 to batch normalization layer b.n.2 includes a bias term.\n",
      "WARNING: The source layer convo.2 to batch normalization layer b.n.2 does not have an IDENTITY activation function.\n",
      "NOTE:  Synchronous mode is enabled.\n",
      "NOTE:  The total number of parameters is 44470.\n",
      "NOTE:  The approximate memory cost is 7.00 MB.\n",
      "NOTE:  Loading weights cost       0.00 (s).\n",
      "NOTE:  Initializing each layer cost       0.07 (s).\n",
      "NOTE:  The total number of threads on each worker is 4.\n",
      "NOTE:  The total mini-batch size per thread on each worker is 32.\n",
      "NOTE:  The maximum mini-batch size across all workers for the synchronous mode is 128.\n",
      "NOTE:  Target variable: _label_\n",
      "NOTE:  Number of levels for the target variable:     10\n",
      "NOTE:  Levels for the target variable:\n",
      "NOTE:  Level      0: Ankle_boot \n",
      "NOTE:  Level      1: Bag        \n",
      "NOTE:  Level      2: Coat       \n",
      "NOTE:  Level      3: Dress      \n",
      "NOTE:  Level      4: Pullover   \n",
      "NOTE:  Level      5: Sandal     \n",
      "NOTE:  Level      6: Shirt      \n",
      "NOTE:  Level      7: Sneaker    \n",
      "NOTE:  Level      8: T-shirt|top\n",
      "NOTE:  Level      9: Trouser    \n",
      "NOTE:  Number of input variables:     1\n",
      "NOTE:  Number of numeric input variables:      1\n",
      "NOTE:  Epoch Learning Rate        Loss  Fit Error  Validation Loss Validation Error   Time(s)\n",
      "NOTE:  0         0.001           1.393     0.4806           0.8078           0.2787     7.72\n",
      "NOTE:  1         0.001          0.7969     0.2825           0.6202           0.2186     7.66\n",
      "NOTE:  2         0.001          0.6759     0.2405           0.5483           0.1974     7.53\n",
      "NOTE:  3         0.001          0.5994     0.2166           0.5063           0.1819     7.64\n",
      "NOTE:  4         0.001          0.5504     0.1973           0.4764           0.1698     7.65\n",
      "NOTE:  5         0.001          0.5178     0.1861           0.4554           0.1667     7.55\n",
      "NOTE:  6         0.001          0.5064      0.183           0.4428           0.1627     7.85\n",
      "NOTE:  7         0.001          0.4812     0.1723            0.424           0.1526     7.71\n",
      "NOTE:  8         0.001          0.4653     0.1677           0.4114           0.1489     7.68\n",
      "NOTE:  9         0.001          0.4466     0.1613           0.4025           0.1479     7.58\n",
      "NOTE:  10        0.001           0.439     0.1584           0.3949           0.1451     7.91\n",
      "NOTE:  11        0.001          0.4216     0.1527           0.3858           0.1414     7.57\n",
      "NOTE:  12        0.001          0.4197     0.1507           0.3799           0.1381     7.70\n",
      "NOTE:  13        0.001          0.4132     0.1469           0.3739           0.1351     7.64\n",
      "NOTE:  14        0.001          0.3955      0.143           0.3656           0.1336     7.61\n",
      "NOTE:  15        0.001          0.3923     0.1413           0.3657           0.1323     7.80\n",
      "NOTE:  16        0.001          0.3857     0.1381           0.3615           0.1301     7.95\n",
      "NOTE:  17        0.001          0.3748     0.1342           0.3573           0.1283     7.56\n",
      "NOTE:  18        0.001          0.3753     0.1365           0.3513           0.1253     7.60\n",
      "NOTE:  19        0.001          0.3723     0.1345           0.3484           0.1247     7.54\n",
      "NOTE:  20        0.001          0.3656     0.1323           0.3483            0.127     7.64\n",
      "NOTE:  21        0.001          0.3583     0.1296           0.3454           0.1256     7.67\n",
      "NOTE:  22        0.001          0.3563     0.1288           0.3445           0.1259     7.63\n",
      "NOTE:  23        0.001          0.3526     0.1272           0.3445           0.1253     7.80\n",
      "NOTE:  24        0.001          0.3466     0.1251           0.3434           0.1224     8.12\n",
      "NOTE:  25        0.001            0.34      0.123           0.3351           0.1217     7.78\n",
      "NOTE:  26        0.001          0.3419     0.1246           0.3298           0.1196     7.52\n",
      "NOTE:  27        0.001           0.339     0.1233           0.3308           0.1209     7.63\n",
      "NOTE:  28        0.001          0.3344     0.1213           0.3332           0.1194     7.71\n",
      "NOTE:  29        0.001          0.3291     0.1184           0.3268           0.1186     7.51\n",
      "NOTE:  30        0.001          0.3236     0.1177           0.3333           0.1216     7.49\n",
      "NOTE:  31        0.001          0.3284     0.1201            0.329           0.1206     7.81\n",
      "NOTE:  32        0.001          0.3238     0.1161           0.3253           0.1171     7.79\n",
      "NOTE:  33        0.001          0.3185     0.1164           0.3197           0.1173     7.73\n",
      "NOTE:  34        0.001          0.3152      0.116             0.32           0.1167     7.47\n",
      "NOTE:  35        0.001          0.3188      0.116             0.32           0.1163     7.78\n",
      "NOTE:  36        0.001          0.3096     0.1125            0.318           0.1161     7.45\n",
      "NOTE:  37        0.001          0.3186     0.1151           0.3146           0.1151     7.66\n",
      "NOTE:  38        0.001          0.3041     0.1108           0.3173           0.1146     7.43\n",
      "NOTE:  39        0.001          0.3069     0.1118           0.3149            0.114     7.63\n",
      "NOTE:  40        0.001          0.3028     0.1105            0.334           0.1218     7.80\n",
      "NOTE:  41        0.001          0.3005     0.1095           0.3158           0.1158     7.59\n",
      "NOTE:  42        0.001           0.302     0.1104            0.308           0.1142     7.46\n",
      "NOTE:  43        0.001           0.292     0.1061           0.3166           0.1148     7.84\n",
      "NOTE:  44        0.001          0.2988     0.1091           0.3117           0.1174     7.60\n",
      "NOTE:  45        0.001          0.2941     0.1073           0.3077           0.1106     7.72\n",
      "NOTE:  46        0.001          0.2948     0.1068           0.3111           0.1167     7.97\n",
      "NOTE:  47        0.001          0.2876     0.1059           0.3084           0.1122     7.56\n",
      "NOTE:  48        0.001          0.2935     0.1081            0.308            0.114     7.75\n",
      "NOTE:  49        0.001           0.288     0.1052           0.3072           0.1138     7.95\n",
      "NOTE:  The optimization reached the maximum number of epochs.\n",
      "NOTE:  The total time is     383.96 (s).\n"
     ]
    }
   ],
   "source": [
    "train_history2 = model2.fit(train_data, valid_table=val_data, mini_batch_size=miniBatch, max_epochs=nEpoch, \n",
    "                            n_threads=nThread, lr=lr_scheduler, optimizer=optimizer, seed=42)"
   ]
  },
  {
   "cell_type": "code",
   "execution_count": 37,
   "metadata": {},
   "outputs": [
    {
     "data": {
      "text/plain": [
       "Text(0.5, 1.0, 'Model Accuracy')"
      ]
     },
     "execution_count": 37,
     "metadata": {},
     "output_type": "execute_result"
    },
    {
     "data": {
      "image/png": "[encoded data removed]",
      "text/plain": [
       "<Figure size 432x288 with 1 Axes>"
      ]
     },
     "metadata": {
      "needs_background": "light"
     },
     "output_type": "display_data"
    }
   ],
   "source": [
    "history = train_history2[\"OptIterHistory\"]\n",
    "plt.plot(range(len(history)), 1 - history['FitError'], label='train')\n",
    "plt.plot(range(len(history)), 1 - history['ValidError'], label='validation')\n",
    "plt.legend()\n",
    "plt.xlabel('Epoch')\n",
    "plt.ylabel('Accuracy')\n",
    "plt.title('Model Accuracy')\n"
   ]
  },
  {
   "cell_type": "code",
   "execution_count": 38,
   "metadata": {},
   "outputs": [
    {
     "data": {
      "text/html": [
       "<div class=\"cas-results-key\"><b>&#167; ScoreInfo</b></div>\n",
       "<div class=\"cas-results-body\">\n",
       "<div>\n",
       "<style scoped>\n",
       "    .dataframe tbody tr th:only-of-type {\n",
       "        vertical-align: middle;\n",
       "    }\n",
       "\n",
       "    .dataframe tbody tr th {\n",
       "        vertical-align: top;\n",
       "    }\n",
       "\n",
       "    .dataframe thead th {\n",
       "        text-align: right;\n",
       "    }\n",
       "</style>\n",
       "<table border=\"1\" class=\"dataframe\">\n",
       "  <thead>\n",
       "    <tr style=\"text-align: right;\">\n",
       "      <th title=\"\"></th>\n",
       "      <th title=\"Descr\">Descr</th>\n",
       "      <th title=\"Value\">Value</th>\n",
       "    </tr>\n",
       "  </thead>\n",
       "  <tbody>\n",
       "    <tr>\n",
       "      <th>0</th>\n",
       "      <td>Number of Observations Read</td>\n",
       "      <td>10000</td>\n",
       "    </tr>\n",
       "    <tr>\n",
       "      <th>1</th>\n",
       "      <td>Number of Observations Used</td>\n",
       "      <td>10000</td>\n",
       "    </tr>\n",
       "    <tr>\n",
       "      <th>2</th>\n",
       "      <td>Misclassification Error (%)</td>\n",
       "      <td>11.74</td>\n",
       "    </tr>\n",
       "    <tr>\n",
       "      <th>3</th>\n",
       "      <td>Loss Error</td>\n",
       "      <td>0.324254</td>\n",
       "    </tr>\n",
       "  </tbody>\n",
       "</table>\n",
       "</div>\n",
       "</div>\n",
       "<div class=\"cas-results-key\"><hr/><b>&#167; OutputCasTables</b></div>\n",
       "<div class=\"cas-results-body\">\n",
       "<div>\n",
       "<style scoped>\n",
       "    .dataframe tbody tr th:only-of-type {\n",
       "        vertical-align: middle;\n",
       "    }\n",
       "\n",
       "    .dataframe tbody tr th {\n",
       "        vertical-align: top;\n",
       "    }\n",
       "\n",
       "    .dataframe thead th {\n",
       "        text-align: right;\n",
       "    }\n",
       "</style>\n",
       "<table border=\"1\" class=\"dataframe\">\n",
       "  <thead>\n",
       "    <tr style=\"text-align: right;\">\n",
       "      <th title=\"\"></th>\n",
       "      <th title=\"CAS Library\">casLib</th>\n",
       "      <th title=\"Name\">Name</th>\n",
       "      <th title=\"Number of Rows\">Rows</th>\n",
       "      <th title=\"Number of Columns\">Columns</th>\n",
       "      <th title=\"Table\">casTable</th>\n",
       "    </tr>\n",
       "  </thead>\n",
       "  <tbody>\n",
       "    <tr>\n",
       "      <th>0</th>\n",
       "      <td>CASUSER(msu59)</td>\n",
       "      <td>Valid_Res_X25uCJ</td>\n",
       "      <td>10000</td>\n",
       "      <td>17</td>\n",
       "      <td>CASTable('Valid_Res_X25uCJ', caslib='CASUSER(m...</td>\n",
       "    </tr>\n",
       "  </tbody>\n",
       "</table>\n",
       "</div>\n",
       "</div>\n",
       "<div class=\"cas-output-area\"></div>\n",
       "<p class=\"cas-results-performance\"><small><span class=\"cas-elapsed\">elapsed 0.112s</span> &#183; <span class=\"cas-user\">user 1.41s</span> &#183; <span class=\"cas-sys\">sys 0.254s</span> &#183; <span class=\"cas-memory\">mem 104MB</span></small></p>"
      ],
      "text/plain": [
       "[ScoreInfo]\n",
       "\n",
       "                          Descr         Value\n",
       " 0  Number of Observations Read         10000\n",
       " 1  Number of Observations Used         10000\n",
       " 2  Misclassification Error (%)         11.74\n",
       " 3                   Loss Error      0.324254\n",
       "\n",
       "[OutputCasTables]\n",
       "\n",
       "            casLib              Name   Rows  Columns  \\\n",
       " 0  CASUSER(msu59)  Valid_Res_X25uCJ  10000       17   \n",
       " \n",
       "                                             casTable  \n",
       " 0  CASTable('Valid_Res_X25uCJ', caslib='CASUSER(m...  \n",
       "\n",
       "+ Elapsed: 0.112s, user: 1.41s, sys: 0.254s, mem: 104mb"
      ]
     },
     "execution_count": 38,
     "metadata": {},
     "output_type": "execute_result"
    }
   ],
   "source": [
    "model2.evaluate(test_data)"
   ]
  },
  {
   "cell_type": "code",
   "execution_count": 39,
   "metadata": {},
   "outputs": [
    {
     "name": "stdout",
     "output_type": "stream",
     "text": [
      "NOTE: Model table saved successfully.\n"
     ]
    }
   ],
   "source": [
    "save_path = f'{os.getcwd()}/second_model/'\n",
    "if not os.path.isdir(save_path):\n",
    "    os.makedirs(save_path)\n",
    "model2.deploy(path=save_path, output_format='table')"
   ]
  }
 ],
 "metadata": {
  "kernelspec": {
   "display_name": "Python 3",
   "language": "python",
   "name": "python3"
  },
  "language_info": {
   "codemirror_mode": {
    "name": "ipython",
    "version": 3
   },
   "file_extension": ".py",
   "mimetype": "text/x-python",
   "name": "python",
   "nbconvert_exporter": "python",
   "pygments_lexer": "ipython3",
   "version": "3.7.6"
  }
 },
 "nbformat": 4,
 "nbformat_minor": 4
}
